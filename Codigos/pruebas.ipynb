{
 "cells": [
  {
   "cell_type": "code",
   "execution_count": 1,
   "metadata": {},
   "outputs": [],
   "source": [
    "import numpy as np"
   ]
  },
  {
   "cell_type": "code",
   "execution_count": 2,
   "metadata": {},
   "outputs": [],
   "source": [
    "array = np.array([[0.05407635, 0.11618094, 0.12480513, 0.08937966, 0.04800718],\n",
    "       [0.04157915, 0.08933119, 0.0959623 , 0.06872376, 0.03691258],\n",
    "       [0.01598504, 0.03434325, 0.03689257, 0.02642075, 0.01419099],\n",
    "       [0.00409695, 0.00880214, 0.00945553, 0.00677161, 0.00363714],\n",
    "       [0.00078753, 0.00169199, 0.00181758, 0.00130167, 0.00069915]])"
   ]
  },
  {
   "cell_type": "code",
   "execution_count": 4,
   "metadata": {},
   "outputs": [],
   "source": [
    "np.savetxt(\"matriz.txt\", array, fmt='%f', delimiter=' & ', newline=' \\\\\\\\\\n')"
   ]
  },
  {
   "cell_type": "code",
   "execution_count": null,
   "metadata": {},
   "outputs": [],
   "source": []
  }
 ],
 "metadata": {
  "kernelspec": {
   "display_name": "Python 3",
   "language": "python",
   "name": "python3"
  },
  "language_info": {
   "codemirror_mode": {
    "name": "ipython",
    "version": 3
   },
   "file_extension": ".py",
   "mimetype": "text/x-python",
   "name": "python",
   "nbconvert_exporter": "python",
   "pygments_lexer": "ipython3",
   "version": "3.8.10"
  },
  "orig_nbformat": 4
 },
 "nbformat": 4,
 "nbformat_minor": 2
}
